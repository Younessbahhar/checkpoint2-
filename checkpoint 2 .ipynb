{
 "cells": [
  {
   "cell_type": "markdown",
   "id": "9e5028bc",
   "metadata": {},
   "source": [
    "# checkpoint 2 gomycode\n"
   ]
  },
  {
   "cell_type": "markdown",
   "id": "0751e618",
   "metadata": {},
   "source": [
    "## exo 1 "
   ]
  },
  {
   "cell_type": "code",
   "execution_count": 9,
   "id": "e6e4d5b3",
   "metadata": {
    "scrolled": true
   },
   "outputs": [
    {
     "name": "stdout",
     "output_type": "stream",
     "text": [
      "entrez votre prénom:younes\n",
      "entrez votre nom:bahhar\n",
      "BAHHAR   Younes\n"
     ]
    }
   ],
   "source": [
    "firstname=input(\"entrez votre prénom:\")\n",
    "lastname=input(\"entrez votre nom:\")\n",
    "print(lastname.upper(),\" \",firstname.capitalize())"
   ]
  },
  {
   "cell_type": "markdown",
   "id": "3307b68f",
   "metadata": {},
   "source": [
    "\n",
    "## exo 2 "
   ]
  },
  {
   "cell_type": "code",
   "execution_count": 14,
   "id": "8f08ea3a",
   "metadata": {},
   "outputs": [
    {
     "name": "stdout",
     "output_type": "stream",
     "text": [
      "entrez un nombre5\n",
      "615 = 5 + 55 + 555\n"
     ]
    }
   ],
   "source": [
    "n=input(\"entrez un nombre\")\n",
    "nn= 2*n\n",
    "nnn=3*n \n",
    "s=int(n)+int(nn)+int(nnn)\n",
    "print(s,'=',n,'+',nn,'+',nnn)\n"
   ]
  },
  {
   "cell_type": "markdown",
   "id": "ea400eb2",
   "metadata": {},
   "source": [
    "## exo 3 "
   ]
  },
  {
   "cell_type": "code",
   "execution_count": 19,
   "id": "201b1e8c",
   "metadata": {},
   "outputs": [
    {
     "name": "stdout",
     "output_type": "stream",
     "text": [
      "35\n",
      "35 est impair\n"
     ]
    }
   ],
   "source": [
    "n=int(input())\n",
    "if n%2==0:\n",
    "    print(n,'est pair')\n",
    "else:\n",
    "    print(n,'est impair')"
   ]
  },
  {
   "cell_type": "markdown",
   "id": "86776c0a",
   "metadata": {},
   "source": [
    "## exo 4 "
   ]
  },
  {
   "cell_type": "code",
   "execution_count": 22,
   "id": "16aed1f6",
   "metadata": {},
   "outputs": [
    {
     "name": "stdout",
     "output_type": "stream",
     "text": [
      "2002,2009,2016,2023,2037,2044,2051,2058,2072,2079,2086,2093,2107,2114,2121,2128,2142,2149,2156,2163,2177,2184,2191,2198,2212,2219,2226,2233,2247,2254,2261,2268,2282,2289,2296,2303,2317,2324,2331,2338,2352,2359,2366,2373,2387,2394,2401,2408,2422,2429,2436,2443,2457,2464,2471,2478,2492,2499,2506,2513,2527,2534,2541,2548,2562,2569,2576,2583,2597,2604,2611,2618,2632,2639,2646,2653,2667,2674,2681,2688,2702,2709,2716,2723,2737,2744,2751,2758,2772,2779,2786,2793,2807,2814,2821,2828,2842,2849,2856,2863,2877,2884,2891,2898,2912,2919,2926,2933,2947,2954,2961,2968,2982,2989,2996,3003,3017,3024,3031,3038,3052,3059,3066,3073,3087,3094,3101,3108,3122,3129,3136,3143,3157,3164,3171,3178,3192,3199,"
     ]
    }
   ],
   "source": [
    "for i in range (2000,3201):\n",
    "    if i%7==0 and i%5!=0:\n",
    "        print(i,end=',')\n"
   ]
  },
  {
   "cell_type": "markdown",
   "id": "2e933911",
   "metadata": {},
   "source": [
    "## exo 5 "
   ]
  },
  {
   "cell_type": "markdown",
   "id": "973eca7c",
   "metadata": {},
   "source": [
    "### methode 1 "
   ]
  },
  {
   "cell_type": "code",
   "execution_count": 25,
   "id": "885d7e90",
   "metadata": {},
   "outputs": [],
   "source": [
    "def fact(n):\n",
    "    if n==0 or n == 1:\n",
    "        return 1 \n",
    "    else:\n",
    "        return n*fact(n-1)"
   ]
  },
  {
   "cell_type": "code",
   "execution_count": 26,
   "id": "b019349d",
   "metadata": {},
   "outputs": [
    {
     "data": {
      "text/plain": [
       "40320"
      ]
     },
     "execution_count": 26,
     "metadata": {},
     "output_type": "execute_result"
    }
   ],
   "source": [
    "fact(8)"
   ]
  },
  {
   "cell_type": "code",
   "execution_count": 27,
   "id": "d5e3fa9b",
   "metadata": {},
   "outputs": [
    {
     "data": {
      "text/plain": [
       "1"
      ]
     },
     "execution_count": 27,
     "metadata": {},
     "output_type": "execute_result"
    }
   ],
   "source": [
    "fact(1)"
   ]
  },
  {
   "cell_type": "code",
   "execution_count": 28,
   "id": "7c256be3",
   "metadata": {},
   "outputs": [
    {
     "data": {
      "text/plain": [
       "1"
      ]
     },
     "execution_count": 28,
     "metadata": {},
     "output_type": "execute_result"
    }
   ],
   "source": [
    "fact(0)"
   ]
  },
  {
   "cell_type": "markdown",
   "id": "eceb8704",
   "metadata": {},
   "source": [
    "### methode 2 "
   ]
  },
  {
   "cell_type": "code",
   "execution_count": 30,
   "id": "a912d386",
   "metadata": {},
   "outputs": [
    {
     "name": "stdout",
     "output_type": "stream",
     "text": [
      "0\n",
      "fact 0 est 0\n"
     ]
    }
   ],
   "source": [
    "n=int(input())\n",
    "if n==0 or n==1:\n",
    "    print('fact', n,'est 0')\n",
    "else: \n",
    "    f=1\n",
    "    for i in range (1,n+1):\n",
    "        f=f*i\n",
    "    print('le factorielle est de',n,'est',f)\n",
    "    "
   ]
  },
  {
   "cell_type": "markdown",
   "id": "8916db87",
   "metadata": {},
   "source": [
    "## exo 6"
   ]
  },
  {
   "cell_type": "code",
   "execution_count": 36,
   "id": "290b4a49",
   "metadata": {},
   "outputs": [
    {
     "name": "stdout",
     "output_type": "stream",
     "text": [
      "hello team\n",
      "hlota\n"
     ]
    }
   ],
   "source": [
    "s=input()\n",
    "f=''\n",
    "for i in range(0,len(s),2):\n",
    "    f=f+s[i]\n",
    "print(f)"
   ]
  },
  {
   "cell_type": "markdown",
   "id": "8775eb77",
   "metadata": {},
   "source": [
    "## exo 7\n"
   ]
  },
  {
   "cell_type": "code",
   "execution_count": 39,
   "id": "126b7d58",
   "metadata": {},
   "outputs": [
    {
     "name": "stdout",
     "output_type": "stream",
     "text": [
      "donnez le prix de l'article100\n",
      "Le montant aprés réduction est 90.0\n"
     ]
    }
   ],
   "source": [
    "n=int(input(\"donnez le prix de l'article\"))\n",
    "if n >= 500:\n",
    "    f=n-n*0.5\n",
    "    print('Le montant aprés réduction est',f)\n",
    "elif n<= 200 and n>500:\n",
    "    f=n-n*0.3\n",
    "    print('Le montant aprés réduction est',f)\n",
    "else:\n",
    "    f=n-n*0.1\n",
    "    print('Le montant aprés réduction est',f)"
   ]
  },
  {
   "cell_type": "code",
   "execution_count": null,
   "id": "4f56f257",
   "metadata": {},
   "outputs": [],
   "source": []
  }
 ],
 "metadata": {
  "kernelspec": {
   "display_name": "Python 3",
   "language": "python",
   "name": "python3"
  },
  "language_info": {
   "codemirror_mode": {
    "name": "ipython",
    "version": 3
   },
   "file_extension": ".py",
   "mimetype": "text/x-python",
   "name": "python",
   "nbconvert_exporter": "python",
   "pygments_lexer": "ipython3",
   "version": "3.8.8"
  }
 },
 "nbformat": 4,
 "nbformat_minor": 5
}
